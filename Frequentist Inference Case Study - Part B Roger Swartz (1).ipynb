{
 "cells": [
  {
   "cell_type": "markdown",
   "metadata": {},
   "source": [
    "# Frequentist Inference Case Study - Part B"
   ]
  },
  {
   "cell_type": "markdown",
   "metadata": {},
   "source": [
    "## Learning objectives"
   ]
  },
  {
   "cell_type": "markdown",
   "metadata": {},
   "source": [
    "Welcome to Part B of the Frequentist inference case study! The purpose of this case study is to help you apply the concepts associated with Frequentist inference in Python. In particular, you'll practice writing Python code to apply the following statistical concepts: \n",
    "* the _z_-statistic\n",
    "* the _t_-statistic\n",
    "* the difference and relationship between the two\n",
    "* the Central Limit Theorem, including its assumptions and consequences\n",
    "* how to estimate the population mean and standard deviation from a sample\n",
    "* the concept of a sampling distribution of a test statistic, particularly for the mean\n",
    "* how to combine these concepts to calculate a confidence interval"
   ]
  },
  {
   "cell_type": "markdown",
   "metadata": {},
   "source": [
    "In the previous notebook, we used only data from a known normal distribution. **You'll now tackle real data, rather than simulated data, and answer some relevant real-world business problems using the data.**"
   ]
  },
  {
   "cell_type": "markdown",
   "metadata": {},
   "source": [
    "## Hospital medical charges"
   ]
  },
  {
   "cell_type": "markdown",
   "metadata": {},
   "source": [
    "Imagine that a hospital has hired you as their data scientist. An administrator is working on the hospital's business operations plan and needs you to help them answer some business questions. \n",
    "\n",
    "In this assignment notebook, you're going to use frequentist statistical inference on a data sample to answer the questions:\n",
    "* has the hospital's revenue stream fallen below a key threshold?\n",
    "* are patients with insurance really charged different amounts than those without?\n",
    "\n",
    "Answering that last question with a frequentist approach makes some assumptions, and requires some knowledge, about the two groups."
   ]
  },
  {
   "cell_type": "markdown",
   "metadata": {},
   "source": [
    "We are going to use some data on medical charges obtained from [Kaggle](https://www.kaggle.com/easonlai/sample-insurance-claim-prediction-dataset). \n",
    "\n",
    "For the purposes of this exercise, assume the observations are the result of random sampling from our single hospital. Recall that in the previous assignment, we introduced the Central Limit Theorem (CLT), and its consequence that the distributions of sample statistics approach a normal distribution as $n$ increases. The amazing thing about this is that it applies to the sampling distributions of statistics that have been calculated from even highly non-normal distributions of data! Recall, also, that hypothesis testing is very much based on making inferences about such sample statistics. You're going to rely heavily on the CLT to apply frequentist (parametric) tests to answer the questions in this notebook."
   ]
  },
  {
   "cell_type": "code",
   "execution_count": 13,
   "metadata": {},
   "outputs": [],
   "source": [
    "import pandas as pd\n",
    "import numpy as np\n",
    "import matplotlib.pyplot as plt\n",
    "from scipy.stats import t\n",
    "from numpy.random import seed"
   ]
  },
  {
   "cell_type": "code",
   "execution_count": 15,
   "metadata": {},
   "outputs": [],
   "source": [
    "import pandas as pd\n",
    "\n",
    "file_path_medical = '/Users/rogerswartz/Library/CloudStorage/Dropbox/Mac (2)/Documents/GitHub/DataScienceGuidedCapstone/raw_data/insurance2.csv'\n",
    "\n",
    "medical = pd.read_csv(file_path_medical)"
   ]
  },
  {
   "cell_type": "code",
   "execution_count": 17,
   "metadata": {},
   "outputs": [
    {
     "data": {
      "text/plain": [
       "(1338, 8)"
      ]
     },
     "execution_count": 17,
     "metadata": {},
     "output_type": "execute_result"
    }
   ],
   "source": [
    "medical.shape"
   ]
  },
  {
   "cell_type": "code",
   "execution_count": 19,
   "metadata": {},
   "outputs": [
    {
     "data": {
      "text/html": [
       "<div>\n",
       "<style scoped>\n",
       "    .dataframe tbody tr th:only-of-type {\n",
       "        vertical-align: middle;\n",
       "    }\n",
       "\n",
       "    .dataframe tbody tr th {\n",
       "        vertical-align: top;\n",
       "    }\n",
       "\n",
       "    .dataframe thead th {\n",
       "        text-align: right;\n",
       "    }\n",
       "</style>\n",
       "<table border=\"1\" class=\"dataframe\">\n",
       "  <thead>\n",
       "    <tr style=\"text-align: right;\">\n",
       "      <th></th>\n",
       "      <th>age</th>\n",
       "      <th>sex</th>\n",
       "      <th>bmi</th>\n",
       "      <th>children</th>\n",
       "      <th>smoker</th>\n",
       "      <th>region</th>\n",
       "      <th>charges</th>\n",
       "      <th>insuranceclaim</th>\n",
       "    </tr>\n",
       "  </thead>\n",
       "  <tbody>\n",
       "    <tr>\n",
       "      <th>0</th>\n",
       "      <td>19</td>\n",
       "      <td>0</td>\n",
       "      <td>27.900</td>\n",
       "      <td>0</td>\n",
       "      <td>1</td>\n",
       "      <td>3</td>\n",
       "      <td>16884.92400</td>\n",
       "      <td>1</td>\n",
       "    </tr>\n",
       "    <tr>\n",
       "      <th>1</th>\n",
       "      <td>18</td>\n",
       "      <td>1</td>\n",
       "      <td>33.770</td>\n",
       "      <td>1</td>\n",
       "      <td>0</td>\n",
       "      <td>2</td>\n",
       "      <td>1725.55230</td>\n",
       "      <td>1</td>\n",
       "    </tr>\n",
       "    <tr>\n",
       "      <th>2</th>\n",
       "      <td>28</td>\n",
       "      <td>1</td>\n",
       "      <td>33.000</td>\n",
       "      <td>3</td>\n",
       "      <td>0</td>\n",
       "      <td>2</td>\n",
       "      <td>4449.46200</td>\n",
       "      <td>0</td>\n",
       "    </tr>\n",
       "    <tr>\n",
       "      <th>3</th>\n",
       "      <td>33</td>\n",
       "      <td>1</td>\n",
       "      <td>22.705</td>\n",
       "      <td>0</td>\n",
       "      <td>0</td>\n",
       "      <td>1</td>\n",
       "      <td>21984.47061</td>\n",
       "      <td>0</td>\n",
       "    </tr>\n",
       "    <tr>\n",
       "      <th>4</th>\n",
       "      <td>32</td>\n",
       "      <td>1</td>\n",
       "      <td>28.880</td>\n",
       "      <td>0</td>\n",
       "      <td>0</td>\n",
       "      <td>1</td>\n",
       "      <td>3866.85520</td>\n",
       "      <td>1</td>\n",
       "    </tr>\n",
       "  </tbody>\n",
       "</table>\n",
       "</div>"
      ],
      "text/plain": [
       "   age  sex     bmi  children  smoker  region      charges  insuranceclaim\n",
       "0   19    0  27.900         0       1       3  16884.92400               1\n",
       "1   18    1  33.770         1       0       2   1725.55230               1\n",
       "2   28    1  33.000         3       0       2   4449.46200               0\n",
       "3   33    1  22.705         0       0       1  21984.47061               0\n",
       "4   32    1  28.880         0       0       1   3866.85520               1"
      ]
     },
     "execution_count": 19,
     "metadata": {},
     "output_type": "execute_result"
    }
   ],
   "source": [
    "medical.head()"
   ]
  },
  {
   "cell_type": "markdown",
   "metadata": {},
   "source": [
    "__Q1:__ Plot the histogram of charges and calculate the mean and standard deviation. Comment on the appropriateness of these statistics for the data."
   ]
  },
  {
   "cell_type": "markdown",
   "metadata": {},
   "source": [
    "__A: The issue is that we appear to have a skew right distribution or some kind of exponential distribution and we cannot understand\n",
    "that from being given a mean or standard deviation. "
   ]
  },
  {
   "cell_type": "code",
   "execution_count": 38,
   "metadata": {},
   "outputs": [
    {
     "data": {
      "text/plain": [
       "(array([536., 398., 129.,  86.,  35.,  59.,  57.,  32.,   2.,   4.]),\n",
       " array([ 1121.8739  ,  7386.729311, 13651.584722, 19916.440133,\n",
       "        26181.295544, 32446.150955, 38711.006366, 44975.861777,\n",
       "        51240.717188, 57505.572599, 63770.42801 ]),\n",
       " <BarContainer object of 10 artists>)"
      ]
     },
     "execution_count": 38,
     "metadata": {},
     "output_type": "execute_result"
    },
    {
     "data": {
      "image/png": "[encoded data removed]",
      "text/plain": [
       "<Figure size 640x480 with 1 Axes>"
      ]
     },
     "metadata": {},
     "output_type": "display_data"
    }
   ],
   "source": [
    "plt.hist(medical[\"charges\"], bins=10)"
   ]
  },
  {
   "cell_type": "code",
   "execution_count": 40,
   "metadata": {},
   "outputs": [
    {
     "data": {
      "text/plain": [
       "(array([136., 106., 106.,  90.,  98.,  90.,  82.,  73.,  88.,  65.,  45.,\n",
       "         17.,  19.,  20.,  28.,  20.,  22.,  13.,  19.,  12.,  11.,   9.,\n",
       "          7.,   6.,   2.,   6.,  15.,  12.,  12.,  14.,  15.,  13.,  10.,\n",
       "          7.,  12.,   8.,  11.,   8.,   4.,   1.,   0.,   1.,   0.,   1.,\n",
       "          0.,   1.,   0.,   1.,   0.,   2.]),\n",
       " array([ 1121.8739   ,  2374.8449822,  3627.8160644,  4880.7871466,\n",
       "         6133.7582288,  7386.729311 ,  8639.7003932,  9892.6714754,\n",
       "        11145.6425576, 12398.6136398, 13651.584722 , 14904.5558042,\n",
       "        16157.5268864, 17410.4979686, 18663.4690508, 19916.440133 ,\n",
       "        21169.4112152, 22422.3822974, 23675.3533796, 24928.3244618,\n",
       "        26181.295544 , 27434.2666262, 28687.2377084, 29940.2087906,\n",
       "        31193.1798728, 32446.150955 , 33699.1220372, 34952.0931194,\n",
       "        36205.0642016, 37458.0352838, 38711.006366 , 39963.9774482,\n",
       "        41216.9485304, 42469.9196126, 43722.8906948, 44975.861777 ,\n",
       "        46228.8328592, 47481.8039414, 48734.7750236, 49987.7461058,\n",
       "        51240.717188 , 52493.6882702, 53746.6593524, 54999.6304346,\n",
       "        56252.6015168, 57505.572599 , 58758.5436812, 60011.5147634,\n",
       "        61264.4858456, 62517.4569278, 63770.42801  ]),\n",
       " <BarContainer object of 50 artists>)"
      ]
     },
     "execution_count": 40,
     "metadata": {},
     "output_type": "execute_result"
    },
    {
     "data": {
      "image/png": "[encoded data removed]",
      "text/plain": [
       "<Figure size 640x480 with 1 Axes>"
      ]
     },
     "metadata": {},
     "output_type": "display_data"
    }
   ],
   "source": [
    "plt.hist(medical[\"charges\"], bins=50)"
   ]
  },
  {
   "cell_type": "code",
   "execution_count": null,
   "metadata": {},
   "outputs": [],
   "source": [
    "plt.hist(medical[\"charges\"], bins=50)"
   ]
  },
  {
   "cell_type": "code",
   "execution_count": 55,
   "metadata": {},
   "outputs": [
    {
     "data": {
      "text/plain": [
       "(array([92., 51., 34., 25., 32., 47., 48., 46., 51., 40., 33.,  8., 13.,\n",
       "        13., 17., 14., 16.,  8., 15.,  7.,  7.,  6.,  5.,  4.,  2.,  4.,\n",
       "        15., 11., 10., 14., 15., 13., 10.,  7., 12.,  8., 11.,  8.,  4.,\n",
       "         1.,  0.,  1.,  0.,  1.,  0.,  1.,  0.,  1.,  0.,  2.]),\n",
       " array([ 1131.5066   ,  2384.2850282,  3637.0634564,  4889.8418846,\n",
       "         6142.6203128,  7395.398741 ,  8648.1771692,  9900.9555974,\n",
       "        11153.7340256, 12406.5124538, 13659.290882 , 14912.0693102,\n",
       "        16164.8477384, 17417.6261666, 18670.4045948, 19923.183023 ,\n",
       "        21175.9614512, 22428.7398794, 23681.5183076, 24934.2967358,\n",
       "        26187.075164 , 27439.8535922, 28692.6320204, 29945.4104486,\n",
       "        31198.1888768, 32450.967305 , 33703.7457332, 34956.5241614,\n",
       "        36209.3025896, 37462.0810178, 38714.859446 , 39967.6378742,\n",
       "        41220.4163024, 42473.1947306, 43725.9731588, 44978.751587 ,\n",
       "        46231.5300152, 47484.3084434, 48737.0868716, 49989.8652998,\n",
       "        51242.643728 , 52495.4221562, 53748.2005844, 55000.9790126,\n",
       "        56253.7574408, 57506.535869 , 58759.3142972, 60012.0927254,\n",
       "        61264.8711536, 62517.6495818, 63770.42801  ]),\n",
       " <BarContainer object of 50 artists>)"
      ]
     },
     "execution_count": 55,
     "metadata": {},
     "output_type": "execute_result"
    },
    {
     "data": {
      "image/png": "[encoded data removed]",
      "text/plain": [
       "<Figure size 640x480 with 1 Axes>"
      ]
     },
     "metadata": {},
     "output_type": "display_data"
    }
   ],
   "source": [
    "Insured_patient_Charges = medical[medical['insuranceclaim'] == 1]['charges']\n",
    "plt.hist(Insured_patient_Charges, bins=50)"
   ]
  },
  {
   "cell_type": "code",
   "execution_count": 59,
   "metadata": {},
   "outputs": [
    {
     "data": {
      "text/plain": [
       "(array([234., 232.,  84.,  60.,  24.,  54.,  57.,  32.,   2.,   4.]),\n",
       " array([ 1131.5066  ,  7395.398741, 13659.290882, 19923.183023,\n",
       "        26187.075164, 32450.967305, 38714.859446, 44978.751587,\n",
       "        51242.643728, 57506.535869, 63770.42801 ]),\n",
       " <BarContainer object of 10 artists>)"
      ]
     },
     "execution_count": 59,
     "metadata": {},
     "output_type": "execute_result"
    },
    {
     "data": {
      "image/png": "[encoded data removed]",
      "text/plain": [
       "<Figure size 640x480 with 1 Axes>"
      ]
     },
     "metadata": {},
     "output_type": "display_data"
    }
   ],
   "source": [
    "Insured_patient_Charges = medical[medical['insuranceclaim'] == 1]['charges']\n",
    "plt.hist(Insured_patient_Charges, bins=10)"
   ]
  },
  {
   "cell_type": "code",
   "execution_count": 57,
   "metadata": {},
   "outputs": [
    {
     "data": {
      "text/plain": [
       "(array([26., 24., 28., 32., 47., 48., 31., 39., 33., 19., 29., 18., 20.,\n",
       "        13., 21., 21., 14.,  8.,  9.,  4.,  5.,  4.,  2.,  6.,  6.,  6.,\n",
       "         3.,  3.,  3.,  5.,  2.,  1.,  3.,  3.,  3.,  1.,  3.,  2.,  2.,\n",
       "         1.,  2.,  0.,  0.,  0.,  2.,  0.,  0.,  1.,  0.,  2.]),\n",
       " array([ 1121.8739   ,  1837.6485826,  2553.4232652,  3269.1979478,\n",
       "         3984.9726304,  4700.747313 ,  5416.5219956,  6132.2966782,\n",
       "         6848.0713608,  7563.8460434,  8279.620726 ,  8995.3954086,\n",
       "         9711.1700912, 10426.9447738, 11142.7194564, 11858.494139 ,\n",
       "        12574.2688216, 13290.0435042, 14005.8181868, 14721.5928694,\n",
       "        15437.367552 , 16153.1422346, 16868.9169172, 17584.6915998,\n",
       "        18300.4662824, 19016.240965 , 19732.0156476, 20447.7903302,\n",
       "        21163.5650128, 21879.3396954, 22595.114378 , 23310.8890606,\n",
       "        24026.6637432, 24742.4384258, 25458.2131084, 26173.987791 ,\n",
       "        26889.7624736, 27605.5371562, 28321.3118388, 29037.0865214,\n",
       "        29752.861204 , 30468.6358866, 31184.4105692, 31900.1852518,\n",
       "        32615.9599344, 33331.734617 , 34047.5092996, 34763.2839822,\n",
       "        35479.0586648, 36194.8333474, 36910.60803  ]),\n",
       " <BarContainer object of 50 artists>)"
      ]
     },
     "execution_count": 57,
     "metadata": {},
     "output_type": "execute_result"
    },
    {
     "data": {
      "image/png": "[encoded data removed]",
      "text/plain": [
       "<Figure size 640x480 with 1 Axes>"
      ]
     },
     "metadata": {},
     "output_type": "display_data"
    }
   ],
   "source": [
    "UnInsured_patient_Charges = medical[medical['insuranceclaim'] == 0]['charges']\n",
    "plt.hist(UnInsured_patient_Charges, bins=50)"
   ]
  },
  {
   "cell_type": "code",
   "execution_count": 61,
   "metadata": {},
   "outputs": [
    {
     "data": {
      "text/plain": [
       "(array([157., 170., 101.,  56.,  23.,  20.,  12.,   9.,   4.,   3.]),\n",
       " array([ 1121.8739  ,  4700.747313,  8279.620726, 11858.494139,\n",
       "        15437.367552, 19016.240965, 22595.114378, 26173.987791,\n",
       "        29752.861204, 33331.734617, 36910.60803 ]),\n",
       " <BarContainer object of 10 artists>)"
      ]
     },
     "execution_count": 61,
     "metadata": {},
     "output_type": "execute_result"
    },
    {
     "data": {
      "image/png": "[encoded data removed]",
      "text/plain": [
       "<Figure size 640x480 with 1 Axes>"
      ]
     },
     "metadata": {},
     "output_type": "display_data"
    }
   ],
   "source": [
    "UnInsured_patient_Charges = medical[medical['insuranceclaim'] == 0]['charges']\n",
    "plt.hist(UnInsured_patient_Charges, bins=10)"
   ]
  },
  {
   "cell_type": "code",
   "execution_count": 27,
   "metadata": {},
   "outputs": [
    {
     "data": {
      "text/plain": [
       "13270.422265141257"
      ]
     },
     "execution_count": 27,
     "metadata": {},
     "output_type": "execute_result"
    }
   ],
   "source": [
    "np.mean(medical[\"charges\"])"
   ]
  },
  {
   "cell_type": "code",
   "execution_count": 29,
   "metadata": {},
   "outputs": [
    {
     "data": {
      "text/plain": [
       "12105.484975561605"
      ]
     },
     "execution_count": 29,
     "metadata": {},
     "output_type": "execute_result"
    }
   ],
   "source": [
    "np.std(medical[\"charges\"])"
   ]
  },
  {
   "cell_type": "code",
   "execution_count": 81,
   "metadata": {},
   "outputs": [
    {
     "data": {
      "text/plain": [
       "(783,)"
      ]
     },
     "execution_count": 81,
     "metadata": {},
     "output_type": "execute_result"
    }
   ],
   "source": []
  },
  {
   "cell_type": "code",
   "execution_count": 83,
   "metadata": {},
   "outputs": [
    {
     "data": {
      "text/plain": [
       "(555,)"
      ]
     },
     "execution_count": 83,
     "metadata": {},
     "output_type": "execute_result"
    }
   ],
   "source": [
    "UnInsured_patient_Charges.shape"
   ]
  },
  {
   "cell_type": "markdown",
   "metadata": {},
   "source": [
    "__Q2:__ The administrator is concerned that the actual average charge has fallen below 12,000, threatening the hospital's operational model. On the assumption that these data represent a random sample of charges, how would you justify that these data allow you to answer that question? And what would be the most appropriate frequentist test, of the ones discussed so far, to apply?"
   ]
  },
  {
   "cell_type": "markdown",
   "metadata": {},
   "source": [
    "__A: Well not knowning much about the data at this time I would be thinking include:\n",
    "1. First and foremost, the average claim is $13,270 although the standard deviation is high making it more likely that our degree of confidence that the mean falls in some tight range is likely lower.  There will be some degree of spread. \n",
    "\n",
    "On an additional note there are some other considerations such as:\n",
    "2. What are the nature of each patients costs especially those that are pulling the average down. Maybe they are for lower cost hospital vists\n",
    "3. There appear to be many lower cost visits lets look at the hospital's cost for those visits vs. what is collected from the insurance.\n",
    "4. Our sample size of 1338 is large enough that we can be confident this is not a normal distribution\n",
    "5. We appear to have a bimodal or even trimodal distribution\n",
    "6. We might be interested in some of the higher charge visits and perhaps we might want some idea of what percentage of bills exceeded $40,000 and $50,000."
   ]
  },
  {
   "cell_type": "markdown",
   "metadata": {},
   "source": [
    "__Q3:__ Given the nature of the administrator's concern, what is the appropriate confidence interval in this case? A ***one-sided*** or ***two-sided*** interval? (Refresh your understanding of this concept on p. 399 of the *AoS*). Calculate the critical value and the relevant 95% confidence interval for the mean, and comment on whether the administrator should be concerned."
   ]
  },
  {
   "cell_type": "markdown",
   "metadata": {},
   "source": [
    "__A: We would be interested in a one sided confidence interval since we need the cut off to be at $12000.\n",
    "In other words:\n",
    "Null Hypothesis: Mean is less than $12000\n",
    "Alternative hypothesis: Mean is greater than $12000\n",
    "Looking at the Z_Score and reading the table it suggests that if the distribution was normal there would be a 99.98% chance that the the mean is greater than 12000\n",
    "Although the issue is that we likely have an exponential distribution since the standard deviation is almost the same as the mean\n",
    "This kind of test is not ideal for an exponential distribution. \n"
   ]
  },
  {
   "cell_type": "code",
   "execution_count": 46,
   "metadata": {},
   "outputs": [
    {
     "name": "stdout",
     "output_type": "stream",
     "text": [
      "330.943713906084\n"
     ]
    }
   ],
   "source": [
    "#Standard Error\n",
    "SE = np.std(medical[\"charges\"])/(np.sqrt(1338))\n",
    "print(SE)"
   ]
  },
  {
   "cell_type": "code",
   "execution_count": 49,
   "metadata": {},
   "outputs": [
    {
     "name": "stdout",
     "output_type": "stream",
     "text": [
      "3.838786511901477\n"
     ]
    }
   ],
   "source": [
    "Z_Score = (np.mean(medical[\"charges\"]) - 12000)/SE\n",
    "print(Z_Score)"
   ]
  },
  {
   "cell_type": "code",
   "execution_count": null,
   "metadata": {},
   "outputs": [],
   "source": [
    "#From the Z_Score the probability that the average charge for all patients is below $12000 is 0.02%."
   ]
  },
  {
   "cell_type": "markdown",
   "metadata": {},
   "source": [
    "The administrator then wants to know whether people with insurance really are charged a different amount to those without.\n",
    "\n",
    "__Q4:__ State the null and alternative hypothesis here. Use the _t_-test for the difference between means, where the pooled standard deviation of the two groups is given by:\n",
    "\\begin{equation}\n",
    "s_p = \\sqrt{\\frac{(n_0 - 1)s^2_0 + (n_1 - 1)s^2_1}{n_0 + n_1 - 2}}\n",
    "\\end{equation}\n",
    "\n",
    "and the *t*-test statistic is then given by:\n",
    "\n",
    "\\begin{equation}\n",
    "t = \\frac{\\bar{x}_0 - \\bar{x}_1}{s_p \\sqrt{1/n_0 + 1/n_1}}.\n",
    "\\end{equation}\n",
    "\n",
    "(If you need some reminding of the general definition of ***t-statistic***, check out the definition on p. 404 of *AoS*). \n",
    "\n",
    "What assumption about the variances of the two groups are we making here?"
   ]
  },
  {
   "cell_type": "markdown",
   "metadata": {},
   "source": [
    "__A:Null Hypothesis: Those with insurance are charged the same as those without insurance  \n",
    "Alternative hypothesis: Those with insurance are not charged the same as those without insurance \n",
    "\n",
    "What is intereting here is not only that the uninsured patients have a mean that is 53.7% of the insured patients but also that their standard deviation is 45.9% of the insured.  Hypothetically speaking if we took the insured numbers and divided by 2 the standard deviation would be 50% of the original amount.  Thus, it is a possibility that unisured patients are paying less that insured for the same services, procedures, tests and medicines.  \n",
    "\n",
    "The t test is used to determine if there is a statistically significant difference between the means of the two independent groups\n",
    "We assume that the two groups have more or less equal variances but we can see that insured patients have a variance that is nearly 5 times greater than the uninsured patients.  Thus, this test is not exactly ideal.  We need a test that allows for a difference in variance.\n",
    "\n",
    "We need to consider patients with the same services, procedures, tests and medicines insured vs uninsured. \n",
    "\n",
    "With a p-value of 2.0744433192791677e-31 that is less than the significance level of 0.05 or 0.025 we reject the null hypothesis. \n"
   ]
  },
  {
   "cell_type": "markdown",
   "metadata": {},
   "source": [
    "__Q5:__ Perform this hypothesis test both manually, using the above formulae, and then using the appropriate function from [scipy.stats](https://docs.scipy.org/doc/scipy/reference/stats.html#statistical-tests) (hint, you're looking for a function to perform a _t_-test on two independent samples). For the manual approach, calculate the value of the test statistic and then its probability (the p-value). Verify you get the same results from both."
   ]
  },
  {
   "cell_type": "markdown",
   "metadata": {},
   "source": [
    "__A:__ "
   ]
  },
  {
   "cell_type": "code",
   "execution_count": 63,
   "metadata": {},
   "outputs": [
    {
     "data": {
      "text/plain": [
       "16423.928276537677"
      ]
     },
     "execution_count": 63,
     "metadata": {},
     "output_type": "execute_result"
    }
   ],
   "source": [
    "np.mean(Insured_patient_Charges)"
   ]
  },
  {
   "cell_type": "code",
   "execution_count": 65,
   "metadata": {},
   "outputs": [
    {
     "data": {
      "text/plain": [
       "8821.421892306305"
      ]
     },
     "execution_count": 65,
     "metadata": {},
     "output_type": "execute_result"
    }
   ],
   "source": [
    "np.mean(UnInsured_patient_Charges)"
   ]
  },
  {
   "cell_type": "code",
   "execution_count": 67,
   "metadata": {},
   "outputs": [
    {
     "data": {
      "text/plain": [
       "14036.956250260411"
      ]
     },
     "execution_count": 67,
     "metadata": {},
     "output_type": "execute_result"
    }
   ],
   "source": [
    "np.std(Insured_patient_Charges)"
   ]
  },
  {
   "cell_type": "code",
   "execution_count": 69,
   "metadata": {},
   "outputs": [
    {
     "data": {
      "text/plain": [
       "6440.699841605234"
      ]
     },
     "execution_count": 69,
     "metadata": {},
     "output_type": "execute_result"
    }
   ],
   "source": [
    "np.std(UnInsured_patient_Charges)"
   ]
  },
  {
   "cell_type": "code",
   "execution_count": 75,
   "metadata": {},
   "outputs": [
    {
     "name": "stdout",
     "output_type": "stream",
     "text": [
      "0.5371079161925046\n"
     ]
    }
   ],
   "source": [
    "print((np.mean(UnInsured_patient_Charges))/(np.mean(Insured_patient_Charges)))"
   ]
  },
  {
   "cell_type": "code",
   "execution_count": 77,
   "metadata": {},
   "outputs": [
    {
     "name": "stdout",
     "output_type": "stream",
     "text": [
      "0.4588387772089656\n"
     ]
    }
   ],
   "source": [
    "print((np.std(UnInsured_patient_Charges))/(np.std(Insured_patient_Charges)))"
   ]
  },
  {
   "cell_type": "code",
   "execution_count": 85,
   "metadata": {},
   "outputs": [
    {
     "data": {
      "text/plain": [
       "(783,)"
      ]
     },
     "execution_count": 85,
     "metadata": {},
     "output_type": "execute_result"
    }
   ],
   "source": [
    "Insured_patient_Charges.shape"
   ]
  },
  {
   "cell_type": "code",
   "execution_count": 87,
   "metadata": {},
   "outputs": [
    {
     "data": {
      "text/plain": [
       "(555,)"
      ]
     },
     "execution_count": 87,
     "metadata": {},
     "output_type": "execute_result"
    }
   ],
   "source": [
    "UnInsured_patient_Charges.shape"
   ]
  },
  {
   "cell_type": "code",
   "execution_count": 103,
   "metadata": {},
   "outputs": [
    {
     "name": "stdout",
     "output_type": "stream",
     "text": [
      "11511.43807224006\n"
     ]
    }
   ],
   "source": [
    "#Manual Calculation of the pooled standard deviation\n",
    "pooled = ((  (783 - 1)*(14036**2) + (555 - 1)*(6440**2)  )/1336)**0.5\n",
    "print(pooled)"
   ]
  },
  {
   "cell_type": "code",
   "execution_count": 105,
   "metadata": {},
   "outputs": [
    {
     "name": "stdout",
     "output_type": "stream",
     "text": [
      "11.90220975284029\n"
     ]
    }
   ],
   "source": [
    "#Manual Calculation of the t-test statistic above\n",
    "t = (16423.9 - 8821.4)/(11511.4 * (((1/783) + (1/555))**0.5))\n",
    "print(t)"
   ]
  },
  {
   "cell_type": "code",
   "execution_count": 115,
   "metadata": {},
   "outputs": [
    {
     "name": "stdout",
     "output_type": "stream",
     "text": [
      "2.0744433192791677e-31\n"
     ]
    }
   ],
   "source": [
    "#Calculation of the p value\n",
    "p = t.sf(11.9, 1336)\n",
    "print(p)"
   ]
  },
  {
   "cell_type": "code",
   "execution_count": null,
   "metadata": {},
   "outputs": [],
   "source": [
    "help(scipy.stats)"
   ]
  },
  {
   "cell_type": "markdown",
   "metadata": {},
   "source": [
    "Congratulations! Hopefully you got the exact same numerical results. This shows that you correctly calculated the numbers by hand. Secondly, you used the correct function and saw that it's much easier to use. All you need to do is pass your data to it."
   ]
  },
  {
   "cell_type": "markdown",
   "metadata": {},
   "source": [
    "__Q6:__ Conceptual question: look through the documentation for statistical test functions in scipy.stats. You'll see the above _t_-test for a sample, but can you see an equivalent one for performing a *z*-test from a sample? Comment on your answer."
   ]
  },
  {
   "cell_type": "markdown",
   "metadata": {},
   "source": [
    "__A: We can use the CDF function: e.g. p-value = 1 - CDF(Z-Score)"
   ]
  },
  {
   "cell_type": "markdown",
   "metadata": {},
   "source": [
    "## Learning outcomes"
   ]
  },
  {
   "cell_type": "markdown",
   "metadata": {},
   "source": [
    "Having completed this project notebook, you now have good hands-on experience:\n",
    "* using the central limit theorem to help you apply frequentist techniques to answer questions that pertain to very non-normally distributed data from the real world\n",
    "* performing inference using such data to answer business questions\n",
    "* forming a hypothesis and framing the null and alternative hypotheses\n",
    "* testing this using a _t_-test"
   ]
  }
 ],
 "metadata": {
  "kernelspec": {
   "display_name": "Python 3 (ipykernel)",
   "language": "python",
   "name": "python3"
  },
  "language_info": {
   "codemirror_mode": {
    "name": "ipython",
    "version": 3
   },
   "file_extension": ".py",
   "mimetype": "text/x-python",
   "name": "python",
   "nbconvert_exporter": "python",
   "pygments_lexer": "ipython3",
   "version": "3.12.4"
  }
 },
 "nbformat": 4,
 "nbformat_minor": 4
}
